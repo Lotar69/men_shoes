{
 "cells": [
  {
   "cell_type": "markdown",
   "metadata": {},
   "source": [
    "# Le projet : Decision science  « Une chaussure à son pied »"
   ]
  },
  {
   "cell_type": "markdown",
   "metadata": {},
   "source": [
    "**Contexte**:  \n",
    "\n",
    "Vous êtes sollicités par un client: Jean Mimi Chaussure. Il souhaite ouvrir une boutique de chaussures pour homme dans le centre de Bordeaux. Il n'en est qu'au début de son étude de marché et souhaite que vous l'aidiez dans sa prise de décision.\n",
    "\n",
    "**Consigne** :   \n",
    "\n",
    "*Première étape* : \n",
    "- Le format des données (exploitables en l'état ou nécessite un traitement,...)\n",
    "- La taille du dataset (le poids des fichiers, le nombre d'observations, le nombre de features,...)\n",
    "- Puis après on fait un état des lieux (Nombre de valeurs inexploitables (replicat, nan,...), colinéarité des features, autocorrelation,....)\n",
    "Bref on corrige pas forcément mais on regarde ce que l'on a et si ce sera suffisant pour tendre vers le résultat attendu.\n",
    "    \n",
    "\n",
    "**Rendu attendu de cette première étape** : \n",
    "- Présentation de la phase exploratoire (notebook présentation imposée)\n",
    "- Trello avec la structure adaptée (les listes) et les tâches\n",
    "- Planning avec les sprints (contenu des livrables et leur deadlines)"
   ]
  },
  {
   "cell_type": "markdown",
   "metadata": {},
   "source": [
    "# Le besoin client"
   ]
  },
  {
   "cell_type": "markdown",
   "metadata": {},
   "source": [
    "**Besoins client**:\n",
    "\n",
    "- Quelle est la meilleure cible (les jeunes, les sportifs, un mixte…)\n",
    "- Quels sont les meilleurs produits ? np : les produits les plus vendus ?\n",
    "- Quel est le volume de stock pour être le plus rentables ?\n",
    "- Manque t’il des infos pour investiguer ?\n",
    "-------------------------------------------------------------------------------------------\n",
    "\n",
    "Notes : \n",
    "- Ce dataset est intéressant pour définir la cible, le prix de vente d'une marque et connaître les marques qui ont appliqué les prix les plus élevés.\n",
    "- Top 30 des meilleures ventes par modèle.\n",
    "- Top 30 des meilleures ventes selon la marque.\n",
    "- Top 30 par catégorie, modèle & marque (enfant ou adulte)\n",
    "- Soldes : déterminer si certaines marques se vendent plus lorsqu'elles sont en solde. Des marques se vendent peut-être mieux en solde alors que cela ne change pas pour certaines ? \n",
    "- Stock : on n'a pas les stocks initiaux => données que sur les chaussures vendues. \n",
    "- Analyse du prix des marques : \n",
    "- Fixer les prix par modèle et marque : Analyse du prix des marques (prix moyen, max et min, prix les plus étendus) + propositions en fonction de la cible client (population et lieu d'installation de la boutique) + distribution des prix (histo + qqplot + loi normale ou non ? + nécessité de logarithmer ?)\n",
    "\n",
    "----------------------------------------------------------------------------------------\n",
    "\n",
    "Piste d'amélioration : \n",
    "- récupérer le prix d'achat afin de calculer la marge\n",
    "\n",
    "\n",
    "**Questions à poser au client** : \n",
    "- A-t-il défini sa cible de départ (étude de marché faite) ? \n",
    "    Si oui : Où souhaite-t-il s'installer ? Quelle est la tranche d'âge et quel prix moyen est prêt à dépenser un client ?\n",
    "    Si non : inviter le client à recueillir ces infos ou tâche en plus à facturer (analyse de marché)"
   ]
  },
  {
   "cell_type": "markdown",
   "metadata": {},
   "source": [
    "# Nos premières observations"
   ]
  },
  {
   "cell_type": "markdown",
   "metadata": {},
   "source": [
    "**Description des variables retenues**: \n",
    "\n",
    "- *descriptions* : peut-être ne garder que la provenance  \n",
    "- *features* = on a toutes les informations nécessaires sous forme d'une liste de dictionnaire\n",
    "- *prices_amountmax / prices_amountmin* = vérifier si toutes les valeurs sont identiques. Si oui, supprimer la colonne max / si non, faire la moyenne. /!\\ présence de\n",
    "- *colors* : couleurs disponibles\n",
    "- *features* : value = color de la chaussure achetée\n",
    "\n",
    "**Premières observations** :\n",
    "- nettoyage important des données (d'après Kaggle, la catégorisation des accessoires serait une erreur de sourcing des données) \n",
    "\n",
    "**Phase exploratoire**\n",
    "- data.shape (de quelles données parle-t-on et d'où viennent les données) + poids des fichiers\n",
    "- data.isnull (avec le graphique data.isnull -> retrouver code projet turbine) + suppression\n",
    "- analyse une par une des features qui nous intéressent (justifier) + data.dtypes (convertir les données en numérique)\n",
    "- Petit nettoyage préablable : supprimer les lignes qui ne concernent pas les chaussures hommes + suppression features non intéressantes => distribution des variables les plus importantes (prix) + matrice de correlation avec les features sélectionnées + multicolinéarité\n",
    "\n",
    "**Définition des tâches**\n",
    "- définir les sprints ? Attendre d'avoir la réponse des questions à poser au client ou proposer 2 types de sprint ?\n",
    "\n",
    "- trello + planning\n",
    "- devis virtuel ?\n",
    "\n",
    "- data cleaning : lister les opérations à faire dans le détail qui vont chiffrer le devis"
   ]
  },
  {
   "cell_type": "code",
   "execution_count": 1,
   "metadata": {},
   "outputs": [],
   "source": [
    "import pandas as pd\n",
    "import numpy as np\n",
    "\n",
    "import matplotlib.pyplot as plt\n",
    "import seaborn as sns\n",
    "\n",
    "#import pandas_profiling"
   ]
  },
  {
   "cell_type": "code",
   "execution_count": 2,
   "metadata": {
    "scrolled": true
   },
   "outputs": [
    {
     "name": "stderr",
     "output_type": "stream",
     "text": [
      "C:\\Users\\lotar\\anaconda3\\lib\\site-packages\\IPython\\core\\interactiveshell.py:3165: DtypeWarning: Columns (39,45) have mixed types.Specify dtype option on import or set low_memory=False.\n",
      "  has_raised = await self.run_ast_nodes(code_ast.body, cell_name,\n"
     ]
    }
   ],
   "source": [
    "data = pd.read_csv('data/train.csv')"
   ]
  },
  {
   "cell_type": "markdown",
   "metadata": {},
   "source": [
    "# Informations sur le dataset."
   ]
  },
  {
   "cell_type": "code",
   "execution_count": 3,
   "metadata": {
    "scrolled": true
   },
   "outputs": [
    {
     "data": {
      "text/html": [
       "<div>\n",
       "<style scoped>\n",
       "    .dataframe tbody tr th:only-of-type {\n",
       "        vertical-align: middle;\n",
       "    }\n",
       "\n",
       "    .dataframe tbody tr th {\n",
       "        vertical-align: top;\n",
       "    }\n",
       "\n",
       "    .dataframe thead th {\n",
       "        text-align: right;\n",
       "    }\n",
       "</style>\n",
       "<table border=\"1\" class=\"dataframe\">\n",
       "  <thead>\n",
       "    <tr style=\"text-align: right;\">\n",
       "      <th></th>\n",
       "      <th>id</th>\n",
       "      <th>asins</th>\n",
       "      <th>brand</th>\n",
       "      <th>categories</th>\n",
       "      <th>colors</th>\n",
       "      <th>count</th>\n",
       "      <th>dateadded</th>\n",
       "      <th>dateupdated</th>\n",
       "      <th>descriptions</th>\n",
       "      <th>dimension</th>\n",
       "      <th>...</th>\n",
       "      <th>prices_warranty</th>\n",
       "      <th>quantities</th>\n",
       "      <th>reviews</th>\n",
       "      <th>sizes</th>\n",
       "      <th>skus</th>\n",
       "      <th>sourceurls</th>\n",
       "      <th>upc</th>\n",
       "      <th>vin</th>\n",
       "      <th>websiteids</th>\n",
       "      <th>weight</th>\n",
       "    </tr>\n",
       "  </thead>\n",
       "  <tbody>\n",
       "    <tr>\n",
       "      <th>0</th>\n",
       "      <td>AVpfHrJ6ilAPnD_xVXOI</td>\n",
       "      <td>NaN</td>\n",
       "      <td>Josmo</td>\n",
       "      <td>Clothing,Shoes,Men's Shoes,All Men's Shoes</td>\n",
       "      <td>NaN</td>\n",
       "      <td>NaN</td>\n",
       "      <td>2016-11-07T00:45:12Z</td>\n",
       "      <td>2016-11-07T00:45:12Z</td>\n",
       "      <td>[{\"dateSeen\":[\"2016-11-07T00:45:12Z\"],\"sourceU...</td>\n",
       "      <td>NaN</td>\n",
       "      <td>...</td>\n",
       "      <td>NaN</td>\n",
       "      <td>NaN</td>\n",
       "      <td>NaN</td>\n",
       "      <td>NaN</td>\n",
       "      <td>NaN</td>\n",
       "      <td>https://www.walmart.com/ip/Josmo-8190-Plain-In...</td>\n",
       "      <td>699302044036</td>\n",
       "      <td>NaN</td>\n",
       "      <td>NaN</td>\n",
       "      <td>NaN</td>\n",
       "    </tr>\n",
       "    <tr>\n",
       "      <th>1</th>\n",
       "      <td>AVpfHrJ6ilAPnD_xVXOI</td>\n",
       "      <td>NaN</td>\n",
       "      <td>Josmo</td>\n",
       "      <td>Clothing,Shoes,Men's Shoes,All Men's Shoes</td>\n",
       "      <td>NaN</td>\n",
       "      <td>NaN</td>\n",
       "      <td>2016-11-07T00:45:12Z</td>\n",
       "      <td>2016-11-07T00:45:12Z</td>\n",
       "      <td>[{\"dateSeen\":[\"2016-11-07T00:45:12Z\"],\"sourceU...</td>\n",
       "      <td>NaN</td>\n",
       "      <td>...</td>\n",
       "      <td>NaN</td>\n",
       "      <td>NaN</td>\n",
       "      <td>NaN</td>\n",
       "      <td>NaN</td>\n",
       "      <td>NaN</td>\n",
       "      <td>https://www.walmart.com/ip/Josmo-8190-Plain-In...</td>\n",
       "      <td>699302044036</td>\n",
       "      <td>NaN</td>\n",
       "      <td>NaN</td>\n",
       "      <td>NaN</td>\n",
       "    </tr>\n",
       "    <tr>\n",
       "      <th>2</th>\n",
       "      <td>AVpfHsWP1cnluZ0-eVZ7</td>\n",
       "      <td>NaN</td>\n",
       "      <td>SERVUS BY HONEYWELL</td>\n",
       "      <td>All Men's Shoes,Shoes,Men's Shoes,Clothing</td>\n",
       "      <td>NaN</td>\n",
       "      <td>NaN</td>\n",
       "      <td>2016-06-14T04:29:57Z</td>\n",
       "      <td>2016-07-09T20:26:48Z</td>\n",
       "      <td>[{\"dateSeen\":[\"2016-07-09T20:26:48Z\"],\"sourceU...</td>\n",
       "      <td>NaN</td>\n",
       "      <td>...</td>\n",
       "      <td>NaN</td>\n",
       "      <td>NaN</td>\n",
       "      <td>NaN</td>\n",
       "      <td>NaN</td>\n",
       "      <td>NaN</td>\n",
       "      <td>http://www.walmart.com/ip/Studs-Shoe-Large-Pr-...</td>\n",
       "      <td>NaN</td>\n",
       "      <td>NaN</td>\n",
       "      <td>NaN</td>\n",
       "      <td>NaN</td>\n",
       "    </tr>\n",
       "    <tr>\n",
       "      <th>3</th>\n",
       "      <td>AVpfHsWP1cnluZ0-eVZ7</td>\n",
       "      <td>NaN</td>\n",
       "      <td>SERVUS BY HONEYWELL</td>\n",
       "      <td>All Men's Shoes,Shoes,Men's Shoes,Clothing</td>\n",
       "      <td>NaN</td>\n",
       "      <td>NaN</td>\n",
       "      <td>2016-06-14T04:29:57Z</td>\n",
       "      <td>2016-07-09T20:26:48Z</td>\n",
       "      <td>[{\"dateSeen\":[\"2016-07-09T20:26:48Z\"],\"sourceU...</td>\n",
       "      <td>NaN</td>\n",
       "      <td>...</td>\n",
       "      <td>NaN</td>\n",
       "      <td>NaN</td>\n",
       "      <td>NaN</td>\n",
       "      <td>NaN</td>\n",
       "      <td>NaN</td>\n",
       "      <td>http://www.walmart.com/ip/Studs-Shoe-Large-Pr-...</td>\n",
       "      <td>NaN</td>\n",
       "      <td>NaN</td>\n",
       "      <td>NaN</td>\n",
       "      <td>NaN</td>\n",
       "    </tr>\n",
       "    <tr>\n",
       "      <th>4</th>\n",
       "      <td>AVpfHsWP1cnluZ0-eVZ7</td>\n",
       "      <td>NaN</td>\n",
       "      <td>SERVUS BY HONEYWELL</td>\n",
       "      <td>All Men's Shoes,Shoes,Men's Shoes,Clothing</td>\n",
       "      <td>NaN</td>\n",
       "      <td>NaN</td>\n",
       "      <td>2016-06-14T04:29:57Z</td>\n",
       "      <td>2016-07-09T20:26:48Z</td>\n",
       "      <td>[{\"dateSeen\":[\"2016-07-09T20:26:48Z\"],\"sourceU...</td>\n",
       "      <td>NaN</td>\n",
       "      <td>...</td>\n",
       "      <td>NaN</td>\n",
       "      <td>NaN</td>\n",
       "      <td>NaN</td>\n",
       "      <td>NaN</td>\n",
       "      <td>NaN</td>\n",
       "      <td>http://www.walmart.com/ip/Studs-Shoe-Large-Pr-...</td>\n",
       "      <td>NaN</td>\n",
       "      <td>NaN</td>\n",
       "      <td>NaN</td>\n",
       "      <td>NaN</td>\n",
       "    </tr>\n",
       "  </tbody>\n",
       "</table>\n",
       "<p>5 rows × 48 columns</p>\n",
       "</div>"
      ],
      "text/plain": [
       "                     id asins                brand  \\\n",
       "0  AVpfHrJ6ilAPnD_xVXOI   NaN                Josmo   \n",
       "1  AVpfHrJ6ilAPnD_xVXOI   NaN                Josmo   \n",
       "2  AVpfHsWP1cnluZ0-eVZ7   NaN  SERVUS BY HONEYWELL   \n",
       "3  AVpfHsWP1cnluZ0-eVZ7   NaN  SERVUS BY HONEYWELL   \n",
       "4  AVpfHsWP1cnluZ0-eVZ7   NaN  SERVUS BY HONEYWELL   \n",
       "\n",
       "                                   categories colors  count  \\\n",
       "0  Clothing,Shoes,Men's Shoes,All Men's Shoes    NaN    NaN   \n",
       "1  Clothing,Shoes,Men's Shoes,All Men's Shoes    NaN    NaN   \n",
       "2  All Men's Shoes,Shoes,Men's Shoes,Clothing    NaN    NaN   \n",
       "3  All Men's Shoes,Shoes,Men's Shoes,Clothing    NaN    NaN   \n",
       "4  All Men's Shoes,Shoes,Men's Shoes,Clothing    NaN    NaN   \n",
       "\n",
       "              dateadded           dateupdated  \\\n",
       "0  2016-11-07T00:45:12Z  2016-11-07T00:45:12Z   \n",
       "1  2016-11-07T00:45:12Z  2016-11-07T00:45:12Z   \n",
       "2  2016-06-14T04:29:57Z  2016-07-09T20:26:48Z   \n",
       "3  2016-06-14T04:29:57Z  2016-07-09T20:26:48Z   \n",
       "4  2016-06-14T04:29:57Z  2016-07-09T20:26:48Z   \n",
       "\n",
       "                                        descriptions dimension  ...  \\\n",
       "0  [{\"dateSeen\":[\"2016-11-07T00:45:12Z\"],\"sourceU...       NaN  ...   \n",
       "1  [{\"dateSeen\":[\"2016-11-07T00:45:12Z\"],\"sourceU...       NaN  ...   \n",
       "2  [{\"dateSeen\":[\"2016-07-09T20:26:48Z\"],\"sourceU...       NaN  ...   \n",
       "3  [{\"dateSeen\":[\"2016-07-09T20:26:48Z\"],\"sourceU...       NaN  ...   \n",
       "4  [{\"dateSeen\":[\"2016-07-09T20:26:48Z\"],\"sourceU...       NaN  ...   \n",
       "\n",
       "   prices_warranty quantities  reviews sizes  skus  \\\n",
       "0              NaN        NaN      NaN   NaN   NaN   \n",
       "1              NaN        NaN      NaN   NaN   NaN   \n",
       "2              NaN        NaN      NaN   NaN   NaN   \n",
       "3              NaN        NaN      NaN   NaN   NaN   \n",
       "4              NaN        NaN      NaN   NaN   NaN   \n",
       "\n",
       "                                          sourceurls           upc  vin  \\\n",
       "0  https://www.walmart.com/ip/Josmo-8190-Plain-In...  699302044036  NaN   \n",
       "1  https://www.walmart.com/ip/Josmo-8190-Plain-In...  699302044036  NaN   \n",
       "2  http://www.walmart.com/ip/Studs-Shoe-Large-Pr-...           NaN  NaN   \n",
       "3  http://www.walmart.com/ip/Studs-Shoe-Large-Pr-...           NaN  NaN   \n",
       "4  http://www.walmart.com/ip/Studs-Shoe-Large-Pr-...           NaN  NaN   \n",
       "\n",
       "  websiteids weight  \n",
       "0        NaN    NaN  \n",
       "1        NaN    NaN  \n",
       "2        NaN    NaN  \n",
       "3        NaN    NaN  \n",
       "4        NaN    NaN  \n",
       "\n",
       "[5 rows x 48 columns]"
      ]
     },
     "execution_count": 3,
     "metadata": {},
     "output_type": "execute_result"
    }
   ],
   "source": [
    "data.head()"
   ]
  },
  {
   "cell_type": "code",
   "execution_count": 4,
   "metadata": {},
   "outputs": [
    {
     "data": {
      "text/plain": [
       "(19387, 48)"
      ]
     },
     "execution_count": 4,
     "metadata": {},
     "output_type": "execute_result"
    }
   ],
   "source": [
    "data.shape"
   ]
  },
  {
   "cell_type": "code",
   "execution_count": 5,
   "metadata": {},
   "outputs": [
    {
     "name": "stdout",
     "output_type": "stream",
     "text": [
      "<class 'pandas.core.frame.DataFrame'>\n",
      "RangeIndex: 19387 entries, 0 to 19386\n",
      "Data columns (total 48 columns):\n",
      " #   Column               Non-Null Count  Dtype  \n",
      "---  ------               --------------  -----  \n",
      " 0   id                   19387 non-null  object \n",
      " 1   asins                2571 non-null   object \n",
      " 2   brand                19129 non-null  object \n",
      " 3   categories           19387 non-null  object \n",
      " 4   colors               11048 non-null  object \n",
      " 5   count                0 non-null      float64\n",
      " 6   dateadded            19387 non-null  object \n",
      " 7   dateupdated          19387 non-null  object \n",
      " 8   descriptions         9904 non-null   object \n",
      " 9   dimension            2991 non-null   object \n",
      " 10  ean                  9999 non-null   float64\n",
      " 11  features             13997 non-null  object \n",
      " 12  flavors              0 non-null      float64\n",
      " 13  imageurls            18342 non-null  object \n",
      " 14  isbn                 0 non-null      float64\n",
      " 15  keys                 19387 non-null  object \n",
      " 16  manufacturer         6699 non-null   object \n",
      " 17  manufacturernumber   15147 non-null  object \n",
      " 18  merchants            14040 non-null  object \n",
      " 19  name                 19387 non-null  object \n",
      " 20  prices_amountmin     19377 non-null  object \n",
      " 21  prices_amountmax     19387 non-null  object \n",
      " 22  prices_availability  197 non-null    object \n",
      " 23  prices_color         758 non-null    object \n",
      " 24  prices_condition     12621 non-null  object \n",
      " 25  prices_count         71 non-null     object \n",
      " 26  prices_currency      19311 non-null  object \n",
      " 27  prices_dateadded     19372 non-null  object \n",
      " 28  prices_dateseen      19362 non-null  object \n",
      " 29  prices_flavor        76 non-null     object \n",
      " 30  prices_issale        19321 non-null  object \n",
      " 31  prices_merchant      13843 non-null  object \n",
      " 32  prices_offer         6091 non-null   object \n",
      " 33  prices_returnpolicy  1018 non-null   object \n",
      " 34  prices_shipping      5753 non-null   object \n",
      " 35  prices_size          661 non-null    object \n",
      " 36  prices_source        16 non-null     object \n",
      " 37  prices_sourceurls    19281 non-null  object \n",
      " 38  prices_warranty      108 non-null    object \n",
      " 39  quantities           11 non-null     object \n",
      " 40  reviews              1664 non-null   object \n",
      " 41  sizes                5979 non-null   object \n",
      " 42  skus                 8743 non-null   object \n",
      " 43  sourceurls           19263 non-null  object \n",
      " 44  upc                  10816 non-null  object \n",
      " 45  vin                  46 non-null     object \n",
      " 46  websiteids           8 non-null      object \n",
      " 47  weight               863 non-null    object \n",
      "dtypes: float64(4), object(44)\n",
      "memory usage: 7.1+ MB\n"
     ]
    }
   ],
   "source": [
    "data.info()"
   ]
  },
  {
   "cell_type": "markdown",
   "metadata": {},
   "source": [
    "# Phrase exploratoire:\n",
    "\n",
    "Le dataset contient pas loin de 20000 lignes et 48 colonnes, sa taille est de 50MB de mémoire physique et requiert 7MB de mémoire vive à l'ouverture du fichier.\n",
    "\n",
    "Ces lignes representent des ventes de chaussures en ligne (provenant de centaines de sites web différents de 2015 à 2016).\n",
    "Sur ces 20000 lignes, certaines ne concernent pas les chaussures, il y a donc un important filtrage des données à réaliser :"
   ]
  },
  {
   "cell_type": "code",
   "execution_count": 6,
   "metadata": {},
   "outputs": [
    {
     "data": {
      "text/plain": [
       "id                         0\n",
       "asins                  16816\n",
       "brand                    258\n",
       "categories                 0\n",
       "colors                  8339\n",
       "count                  19387\n",
       "dateadded                  0\n",
       "dateupdated                0\n",
       "descriptions            9483\n",
       "dimension              16396\n",
       "ean                     9388\n",
       "features                5390\n",
       "flavors                19387\n",
       "imageurls               1045\n",
       "isbn                   19387\n",
       "keys                       0\n",
       "manufacturer           12688\n",
       "manufacturernumber      4240\n",
       "merchants               5347\n",
       "name                       0\n",
       "prices_amountmin          10\n",
       "prices_amountmax           0\n",
       "prices_availability    19190\n",
       "prices_color           18629\n",
       "prices_condition        6766\n",
       "prices_count           19316\n",
       "prices_currency           76\n",
       "prices_dateadded          15\n",
       "prices_dateseen           25\n",
       "prices_flavor          19311\n",
       "prices_issale             66\n",
       "prices_merchant         5544\n",
       "prices_offer           13296\n",
       "prices_returnpolicy    18369\n",
       "prices_shipping        13634\n",
       "prices_size            18726\n",
       "prices_source          19371\n",
       "prices_sourceurls        106\n",
       "prices_warranty        19279\n",
       "quantities             19376\n",
       "reviews                17723\n",
       "sizes                  13408\n",
       "skus                   10644\n",
       "sourceurls               124\n",
       "upc                     8571\n",
       "vin                    19341\n",
       "websiteids             19379\n",
       "weight                 18524\n",
       "dtype: int64"
      ]
     },
     "execution_count": 6,
     "metadata": {},
     "output_type": "execute_result"
    }
   ],
   "source": [
    "data.isnull().sum()"
   ]
  },
  {
   "cell_type": "code",
   "execution_count": 7,
   "metadata": {},
   "outputs": [
    {
     "data": {
      "text/plain": [
       "id                     0.000\n",
       "asins                  0.867\n",
       "brand                  0.013\n",
       "categories             0.000\n",
       "colors                 0.430\n",
       "count                  1.000\n",
       "dateadded              0.000\n",
       "dateupdated            0.000\n",
       "descriptions           0.489\n",
       "dimension              0.846\n",
       "ean                    0.484\n",
       "features               0.278\n",
       "flavors                1.000\n",
       "imageurls              0.054\n",
       "isbn                   1.000\n",
       "keys                   0.000\n",
       "manufacturer           0.654\n",
       "manufacturernumber     0.219\n",
       "merchants              0.276\n",
       "name                   0.000\n",
       "prices_amountmin       0.001\n",
       "prices_amountmax       0.000\n",
       "prices_availability    0.990\n",
       "prices_color           0.961\n",
       "prices_condition       0.349\n",
       "prices_count           0.996\n",
       "prices_currency        0.004\n",
       "prices_dateadded       0.001\n",
       "prices_dateseen        0.001\n",
       "prices_flavor          0.996\n",
       "prices_issale          0.003\n",
       "prices_merchant        0.286\n",
       "prices_offer           0.686\n",
       "prices_returnpolicy    0.947\n",
       "prices_shipping        0.703\n",
       "prices_size            0.966\n",
       "prices_source          0.999\n",
       "prices_sourceurls      0.005\n",
       "prices_warranty        0.994\n",
       "quantities             0.999\n",
       "reviews                0.914\n",
       "sizes                  0.692\n",
       "skus                   0.549\n",
       "sourceurls             0.006\n",
       "upc                    0.442\n",
       "vin                    0.998\n",
       "websiteids             1.000\n",
       "weight                 0.955\n",
       "dtype: float64"
      ]
     },
     "execution_count": 7,
     "metadata": {},
     "output_type": "execute_result"
    }
   ],
   "source": [
    "round(data.isna().sum() / data.shape[0], 3)"
   ]
  },
  {
   "cell_type": "code",
   "execution_count": 8,
   "metadata": {},
   "outputs": [
    {
     "data": {
      "image/png": "[encoded data removed]",
      "text/plain": [
       "<Figure size 1224x504 with 1 Axes>"
      ]
     },
     "metadata": {
      "needs_background": "light"
     },
     "output_type": "display_data"
    }
   ],
   "source": [
    "def show_map_missing_values(data):\n",
    "    plt.figure(figsize=(17,7))\n",
    "    heatmap = sns.heatmap(data.isna(), cbar=False, cmap=\"Blues\")\n",
    "    heatmap.set_title('Heatmap des valeurs manquantes au sein du Dataframe',\n",
    "                      fontdict={'fontsize':18},\n",
    "                      pad=16);\n",
    "\n",
    "show_map_missing_values(data)\n"
   ]
  },
  {
   "cell_type": "code",
   "execution_count": 9,
   "metadata": {},
   "outputs": [
    {
     "data": {
      "text/plain": [
       "['asins',\n",
       " 'count',\n",
       " 'dimension',\n",
       " 'flavors',\n",
       " 'isbn',\n",
       " 'manufacturer',\n",
       " 'prices_availability',\n",
       " 'prices_color',\n",
       " 'prices_count',\n",
       " 'prices_flavor',\n",
       " 'prices_offer',\n",
       " 'prices_returnpolicy',\n",
       " 'prices_shipping',\n",
       " 'prices_size',\n",
       " 'prices_source',\n",
       " 'prices_warranty',\n",
       " 'quantities',\n",
       " 'reviews',\n",
       " 'sizes',\n",
       " 'skus',\n",
       " 'vin',\n",
       " 'websiteids',\n",
       " 'weight']"
      ]
     },
     "execution_count": 9,
     "metadata": {},
     "output_type": "execute_result"
    }
   ],
   "source": [
    "# On supprime les colonnes avec plus de 50% de nulles car elles faussent les résultats globaux.\n",
    "columns_to_drop = [col for col in data.columns if data[col].isna().sum() >= 0.5*data.shape[0]]\n",
    "columns_to_drop"
   ]
  },
  {
   "cell_type": "code",
   "execution_count": 10,
   "metadata": {},
   "outputs": [],
   "source": [
    "data.drop(columns_to_drop,  axis=1, inplace=True)"
   ]
  },
  {
   "cell_type": "code",
   "execution_count": 11,
   "metadata": {},
   "outputs": [
    {
     "data": {
      "text/html": [
       "<div>\n",
       "<style scoped>\n",
       "    .dataframe tbody tr th:only-of-type {\n",
       "        vertical-align: middle;\n",
       "    }\n",
       "\n",
       "    .dataframe tbody tr th {\n",
       "        vertical-align: top;\n",
       "    }\n",
       "\n",
       "    .dataframe thead th {\n",
       "        text-align: right;\n",
       "    }\n",
       "</style>\n",
       "<table border=\"1\" class=\"dataframe\">\n",
       "  <thead>\n",
       "    <tr style=\"text-align: right;\">\n",
       "      <th></th>\n",
       "      <th>brand</th>\n",
       "      <th>colors</th>\n",
       "      <th>ean</th>\n",
       "      <th>features</th>\n",
       "      <th>prices_amountmax</th>\n",
       "      <th>prices_condition</th>\n",
       "      <th>prices_currency</th>\n",
       "      <th>prices_issale</th>\n",
       "      <th>upc</th>\n",
       "    </tr>\n",
       "  </thead>\n",
       "  <tbody>\n",
       "    <tr>\n",
       "      <th>0</th>\n",
       "      <td>Josmo</td>\n",
       "      <td>NaN</td>\n",
       "      <td>6.993020e+11</td>\n",
       "      <td>[{\"key\":\"Gender\",\"value\":[\"Men\"]},{\"key\":\"Shoe...</td>\n",
       "      <td>39.89</td>\n",
       "      <td>NaN</td>\n",
       "      <td>USD</td>\n",
       "      <td>true</td>\n",
       "      <td>699302044036</td>\n",
       "    </tr>\n",
       "    <tr>\n",
       "      <th>1</th>\n",
       "      <td>Josmo</td>\n",
       "      <td>NaN</td>\n",
       "      <td>6.993020e+11</td>\n",
       "      <td>[{\"key\":\"Gender\",\"value\":[\"Men\"]},{\"key\":\"Shoe...</td>\n",
       "      <td>51.99</td>\n",
       "      <td>new</td>\n",
       "      <td>USD</td>\n",
       "      <td>false</td>\n",
       "      <td>699302044036</td>\n",
       "    </tr>\n",
       "    <tr>\n",
       "      <th>2</th>\n",
       "      <td>SERVUS BY HONEYWELL</td>\n",
       "      <td>NaN</td>\n",
       "      <td>NaN</td>\n",
       "      <td>[{\"key\":\"Gender\",\"value\":[\"Men\"]},{\"key\":\"Colo...</td>\n",
       "      <td>40.02</td>\n",
       "      <td>new</td>\n",
       "      <td>USD</td>\n",
       "      <td>false</td>\n",
       "      <td>NaN</td>\n",
       "    </tr>\n",
       "    <tr>\n",
       "      <th>3</th>\n",
       "      <td>SERVUS BY HONEYWELL</td>\n",
       "      <td>NaN</td>\n",
       "      <td>NaN</td>\n",
       "      <td>[{\"key\":\"Gender\",\"value\":[\"Men\"]},{\"key\":\"Colo...</td>\n",
       "      <td>50.31</td>\n",
       "      <td>new</td>\n",
       "      <td>USD</td>\n",
       "      <td>false</td>\n",
       "      <td>NaN</td>\n",
       "    </tr>\n",
       "    <tr>\n",
       "      <th>4</th>\n",
       "      <td>SERVUS BY HONEYWELL</td>\n",
       "      <td>NaN</td>\n",
       "      <td>NaN</td>\n",
       "      <td>[{\"key\":\"Gender\",\"value\":[\"Men\"]},{\"key\":\"Colo...</td>\n",
       "      <td>46.26</td>\n",
       "      <td>new</td>\n",
       "      <td>USD</td>\n",
       "      <td>false</td>\n",
       "      <td>NaN</td>\n",
       "    </tr>\n",
       "    <tr>\n",
       "      <th>...</th>\n",
       "      <td>...</td>\n",
       "      <td>...</td>\n",
       "      <td>...</td>\n",
       "      <td>...</td>\n",
       "      <td>...</td>\n",
       "      <td>...</td>\n",
       "      <td>...</td>\n",
       "      <td>...</td>\n",
       "      <td>...</td>\n",
       "    </tr>\n",
       "    <tr>\n",
       "      <th>19382</th>\n",
       "      <td>Xray, XRay</td>\n",
       "      <td>Black</td>\n",
       "      <td>6.574867e+11</td>\n",
       "      <td>[{\"key\":\"Style\",\"value\":[\"Desert Boots\"]},{\"ke...</td>\n",
       "      <td>29.95</td>\n",
       "      <td>New with box</td>\n",
       "      <td>USD</td>\n",
       "      <td>false</td>\n",
       "      <td>657486718167</td>\n",
       "    </tr>\n",
       "    <tr>\n",
       "      <th>19383</th>\n",
       "      <td>Fila</td>\n",
       "      <td>NaN</td>\n",
       "      <td>7.894822e+11</td>\n",
       "      <td>[{\"key\":\"Shoe Size\",\"value\":[\"9.5\"]},{\"key\":\"G...</td>\n",
       "      <td>64.95</td>\n",
       "      <td>new</td>\n",
       "      <td>USD</td>\n",
       "      <td>false</td>\n",
       "      <td>789482167691</td>\n",
       "    </tr>\n",
       "    <tr>\n",
       "      <th>19384</th>\n",
       "      <td>Seek Optics</td>\n",
       "      <td>NaN</td>\n",
       "      <td>NaN</td>\n",
       "      <td>[{\"key\":\"Gender\",\"value\":[\"Unisex\"]},{\"key\":\"F...</td>\n",
       "      <td>32.48</td>\n",
       "      <td>NaN</td>\n",
       "      <td>USD</td>\n",
       "      <td>true</td>\n",
       "      <td>NaN</td>\n",
       "    </tr>\n",
       "    <tr>\n",
       "      <th>19385</th>\n",
       "      <td>Seek Optics</td>\n",
       "      <td>NaN</td>\n",
       "      <td>NaN</td>\n",
       "      <td>[{\"key\":\"Gender\",\"value\":[\"Unisex\"]},{\"key\":\"F...</td>\n",
       "      <td>31.48</td>\n",
       "      <td>NaN</td>\n",
       "      <td>USD</td>\n",
       "      <td>true</td>\n",
       "      <td>NaN</td>\n",
       "    </tr>\n",
       "    <tr>\n",
       "      <th>19386</th>\n",
       "      <td>Seek Optics</td>\n",
       "      <td>NaN</td>\n",
       "      <td>NaN</td>\n",
       "      <td>[{\"key\":\"Gender\",\"value\":[\"Unisex\"]},{\"key\":\"F...</td>\n",
       "      <td>72.00</td>\n",
       "      <td>NaN</td>\n",
       "      <td>USD</td>\n",
       "      <td>false</td>\n",
       "      <td>NaN</td>\n",
       "    </tr>\n",
       "  </tbody>\n",
       "</table>\n",
       "<p>19387 rows × 9 columns</p>\n",
       "</div>"
      ],
      "text/plain": [
       "                     brand colors           ean  \\\n",
       "0                    Josmo    NaN  6.993020e+11   \n",
       "1                    Josmo    NaN  6.993020e+11   \n",
       "2      SERVUS BY HONEYWELL    NaN           NaN   \n",
       "3      SERVUS BY HONEYWELL    NaN           NaN   \n",
       "4      SERVUS BY HONEYWELL    NaN           NaN   \n",
       "...                    ...    ...           ...   \n",
       "19382           Xray, XRay  Black  6.574867e+11   \n",
       "19383                 Fila    NaN  7.894822e+11   \n",
       "19384          Seek Optics    NaN           NaN   \n",
       "19385          Seek Optics    NaN           NaN   \n",
       "19386          Seek Optics    NaN           NaN   \n",
       "\n",
       "                                                features prices_amountmax  \\\n",
       "0      [{\"key\":\"Gender\",\"value\":[\"Men\"]},{\"key\":\"Shoe...            39.89   \n",
       "1      [{\"key\":\"Gender\",\"value\":[\"Men\"]},{\"key\":\"Shoe...            51.99   \n",
       "2      [{\"key\":\"Gender\",\"value\":[\"Men\"]},{\"key\":\"Colo...            40.02   \n",
       "3      [{\"key\":\"Gender\",\"value\":[\"Men\"]},{\"key\":\"Colo...            50.31   \n",
       "4      [{\"key\":\"Gender\",\"value\":[\"Men\"]},{\"key\":\"Colo...            46.26   \n",
       "...                                                  ...              ...   \n",
       "19382  [{\"key\":\"Style\",\"value\":[\"Desert Boots\"]},{\"ke...            29.95   \n",
       "19383  [{\"key\":\"Shoe Size\",\"value\":[\"9.5\"]},{\"key\":\"G...            64.95   \n",
       "19384  [{\"key\":\"Gender\",\"value\":[\"Unisex\"]},{\"key\":\"F...            32.48   \n",
       "19385  [{\"key\":\"Gender\",\"value\":[\"Unisex\"]},{\"key\":\"F...            31.48   \n",
       "19386  [{\"key\":\"Gender\",\"value\":[\"Unisex\"]},{\"key\":\"F...            72.00   \n",
       "\n",
       "      prices_condition prices_currency prices_issale           upc  \n",
       "0                  NaN             USD          true  699302044036  \n",
       "1                  new             USD         false  699302044036  \n",
       "2                  new             USD         false           NaN  \n",
       "3                  new             USD         false           NaN  \n",
       "4                  new             USD         false           NaN  \n",
       "...                ...             ...           ...           ...  \n",
       "19382     New with box             USD         false  657486718167  \n",
       "19383              new             USD         false  789482167691  \n",
       "19384              NaN             USD          true           NaN  \n",
       "19385              NaN             USD          true           NaN  \n",
       "19386              NaN             USD         false           NaN  \n",
       "\n",
       "[19387 rows x 9 columns]"
      ]
     },
     "execution_count": 11,
     "metadata": {},
     "output_type": "execute_result"
    }
   ],
   "source": [
    "df_clean = data.drop(['id', 'categories', 'dateadded', 'dateupdated', 'descriptions','imageurls', 'keys','manufacturernumber','merchants','name', 'prices_amountmin', 'prices_dateadded', 'prices_dateseen', 'prices_merchant','prices_sourceurls', 'sourceurls'], axis=1)\n",
    "df_clean"
   ]
  },
  {
   "cell_type": "code",
   "execution_count": 12,
   "metadata": {},
   "outputs": [
    {
     "data": {
      "text/plain": [
       "Index(['brand', 'colors', 'ean', 'features', 'prices_amountmax',\n",
       "       'prices_condition', 'prices_currency', 'prices_issale', 'upc'],\n",
       "      dtype='object')"
      ]
     },
     "execution_count": 12,
     "metadata": {},
     "output_type": "execute_result"
    }
   ],
   "source": [
    "df_clean.columns"
   ]
  },
  {
   "cell_type": "markdown",
   "metadata": {},
   "source": [
    "Il nous reste donc les colonnes :\n",
    "brand > les marques. Travaille de nettoyage pour unifier chaque marque.\n",
    "colors > couleur. Couleurs dispnobiles pour les produits.\n",
    "ean / upc > codes barres européen & américains. Rapprochement des deux colonnes (mise en parallèle). suppression de ce qui ne concerne pas les chaussures ainsi que les nan.\n",
    "features > indications sur les produits. Chaussure Homme, Taille, Adulte ou Enfant (ce servir de la taille (Shoe size)) ou groupe Age, Couleur du produit vendu, Shoe Category va nous permettre de récupérer les observations qui concernent les chaussures pour homme.\n",
    "prices_amountmax > Prix de vente\n",
    "prices_condition > Savoir dans quel condition le prix a été vendu (lancement, usagé, avec / sans boite).\n",
    "prices_currency > Devise avec lequel le produit a été payé (travail de conversion des prix via taux de change).\n",
    "prices_issale > Savoir si le prix facturé est en soldes ou non."
   ]
  },
  {
   "cell_type": "code",
   "execution_count": 21,
   "metadata": {},
   "outputs": [
    {
     "data": {
      "text/plain": [
       "19387"
      ]
     },
     "execution_count": 21,
     "metadata": {},
     "output_type": "execute_result"
    }
   ],
   "source": [
    "df_clean[\"ean\"].isnull().count()"
   ]
  },
  {
   "cell_type": "code",
   "execution_count": 29,
   "metadata": {
    "scrolled": true
   },
   "outputs": [
    {
     "name": "stdout",
     "output_type": "stream",
     "text": [
      "[{\"key\":\"Gender\",\"value\":[\"Men\"]},{\"key\":\"Shoe Size\",\"value\":[\"M\"]},{\"key\":\"Shoe Category\",\"value\":[\"Men's Shoes\"]},{\"key\":\"Color\",\"value\":[\"Multicolor\"]},{\"key\":\"Manufacturer Part Number\",\"value\":[\"8190-W-NAVY-7.5\"]},{\"key\":\"Brand\",\"value\":[\"Josmo\"]}] \n",
      "\n",
      "[{\"key\":\"Gender\",\"value\":[\"Men\"]},{\"key\":\"Color\",\"value\":[\"Black\"]},{\"key\":\"Shipping Weight (in pounds)\",\"value\":[\"0.45\"]},{\"key\":\"Condition\",\"value\":[\"New\"]},{\"key\":\"Brand\",\"value\":[\"SERVUS BY HONEYWELL\"]},{\"key\":\"manufacturer_part_number\",\"value\":[\"ZSR101BLMLG\"]}] \n",
      "\n",
      "[{\"key\":\"Heel Height\",\"value\":[\"Low (3/4 in. to 1 1/2 in.)\"]},{\"key\":\"Material\",\"value\":[\"Synthetic\"]},{\"key\":\"Gender\",\"value\":[\"Men\"]},{\"key\":\"Shoe Size\",\"value\":[\"10\"]},{\"key\":\"Fabric Material\",\"value\":[\"Synthetic\"]},{\"key\":\"Color\",\"value\":[\"Gray\"]},{\"key\":\"Casual & Dress Shoe Style\",\"value\":[\"Loafers & Slip Ons\"]},{\"key\":\"Manufacturer Part Number\",\"value\":[\"GLM02-077\"]},{\"key\":\"Brand\",\"value\":[\"NATIVE\"]},{\"key\":\"Age Group\",\"value\":[\"Adult\"]},{\"key\":\"Shoe Width\",\"value\":[\"D(M)\"]}] \n",
      "\n",
      "[{\"key\":\"Heel Height\",\"value\":[\"0.5 Inches\"]},{\"key\":\"Material\",\"value\":[\"Synthetic\"]},{\"key\":\"Gender\",\"value\":[\"Men\"]},{\"key\":\"Shoe Size\",\"value\":[\"11\"]},{\"key\":\"Size\",\"value\":[\"11\"]},{\"key\":\"Shoe Category\",\"value\":[\"Men's Shoes\"]},{\"key\":\"Color\",\"value\":[\"Blue\"]},{\"key\":\"Model\",\"value\":[\"FFM01-GB\"]},{\"key\":\"Shoe Closure\",\"value\":[\"Slide\"]},{\"key\":\"Casual & Dress Shoe Style\",\"value\":[\"Filp-flops\"]},{\"key\":\"Manufacturer Part Number\",\"value\":[\"FFM01-GB\"]},{\"key\":\"Brand\",\"value\":[\"MAUI AND SONS\"]},{\"key\":\"Age Group\",\"value\":[\"Adult\"]},{\"key\":\"Shoe Width\",\"value\":[\"D(M)\"]}] \n",
      "\n",
      "[{\"key\":\"Condition\",\"value\":[\"New with tags\"]}] \n",
      "\n",
      "[{\"key\":\"Manufacturer Part Number\",\"value\":[\"MBKL012\"]},{\"key\":\"Shoe Size\",\"value\":[\"11.5\"]},{\"key\":\"Gender\",\"value\":[\"Men\"]},{\"key\":\"Shoe Category\",\"value\":[\"Men'S Shoes\"]},{\"key\":\"Brand\",\"value\":[\"Twisted X\"]},{\"key\":\"Color\",\"value\":[\"Off-White\"]},{\"key\":\"Shoe Width\",\"value\":[\"D Medium\"]},{\"key\":\"Assembled Product Weight\",\"value\":[\"6.00 Pounds\"]}] \n",
      "\n"
     ]
    }
   ],
   "source": [
    "for a in list(data['features'].unique())[0:6]:\n",
    "    print(a, \"\\n\")"
   ]
  },
  {
   "cell_type": "code",
   "execution_count": null,
   "metadata": {},
   "outputs": [],
   "source": []
  }
 ],
 "metadata": {
  "kernelspec": {
   "display_name": "Python 3",
   "language": "python",
   "name": "python3"
  },
  "language_info": {
   "codemirror_mode": {
    "name": "ipython",
    "version": 3
   },
   "file_extension": ".py",
   "mimetype": "text/x-python",
   "name": "python",
   "nbconvert_exporter": "python",
   "pygments_lexer": "ipython3",
   "version": "3.8.8"
  },
  "latex_envs": {
   "LaTeX_envs_menu_present": true,
   "autoclose": false,
   "autocomplete": true,
   "bibliofile": "biblio.bib",
   "cite_by": "apalike",
   "current_citInitial": 1,
   "eqLabelWithNumbers": true,
   "eqNumInitial": 1,
   "hotkeys": {
    "equation": "Ctrl-E",
    "itemize": "Ctrl-I"
   },
   "labels_anchors": false,
   "latex_user_defs": false,
   "report_style_numbering": false,
   "user_envs_cfg": false
  },
  "toc": {
   "base_numbering": 1,
   "nav_menu": {},
   "number_sections": true,
   "sideBar": true,
   "skip_h1_title": false,
   "title_cell": "Table of Contents",
   "title_sidebar": "Contents",
   "toc_cell": false,
   "toc_position": {},
   "toc_section_display": true,
   "toc_window_display": false
  },
  "varInspector": {
   "cols": {
    "lenName": 16,
    "lenType": 16,
    "lenVar": 40
   },
   "kernels_config": {
    "python": {
     "delete_cmd_postfix": "",
     "delete_cmd_prefix": "del ",
     "library": "var_list.py",
     "varRefreshCmd": "print(var_dic_list())"
    },
    "r": {
     "delete_cmd_postfix": ") ",
     "delete_cmd_prefix": "rm(",
     "library": "var_list.r",
     "varRefreshCmd": "cat(var_dic_list()) "
    }
   },
   "types_to_exclude": [
    "module",
    "function",
    "builtin_function_or_method",
    "instance",
    "_Feature"
   ],
   "window_display": false
  }
 },
 "nbformat": 4,
 "nbformat_minor": 4
}
